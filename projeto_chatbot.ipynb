{
  "nbformat": 4,
  "nbformat_minor": 0,
  "metadata": {
    "colab": {
      "name": "projeto-chatbot.ipynb",
      "provenance": [],
      "collapsed_sections": [],
      "authorship_tag": "ABX9TyOuON9TLvX3/Q9yJLSuu4fJ",
      "include_colab_link": true
    },
    "kernelspec": {
      "name": "python3",
      "display_name": "Python 3"
    }
  },
  "cells": [
    {
      "cell_type": "markdown",
      "metadata": {
        "id": "view-in-github",
        "colab_type": "text"
      },
      "source": [
        "<a href=\"https://colab.research.google.com/github/GrupoTuring/NLP-fb-chatbot/blob/main/projeto_chatbot.ipynb\" target=\"_parent\"><img src=\"https://colab.research.google.com/assets/colab-badge.svg\" alt=\"Open In Colab\"/></a>"
      ]
    },
    {
      "cell_type": "code",
      "metadata": {
        "id": "WJBTMnwaGPVN",
        "colab": {
          "base_uri": "https://localhost:8080/"
        },
        "outputId": "93fc6cdb-a19a-4359-f697-7f1be4f000ba"
      },
      "source": [
        "!pip install transformers"
      ],
      "execution_count": 1,
      "outputs": [
        {
          "output_type": "stream",
          "text": [
            "Collecting transformers\n",
            "\u001b[?25l  Downloading https://files.pythonhosted.org/packages/50/0c/7d5950fcd80b029be0a8891727ba21e0cd27692c407c51261c3c921f6da3/transformers-4.1.1-py3-none-any.whl (1.5MB)\n",
            "\u001b[K     |████████████████████████████████| 1.5MB 5.9MB/s \n",
            "\u001b[?25hRequirement already satisfied: regex!=2019.12.17 in /usr/local/lib/python3.6/dist-packages (from transformers) (2019.12.20)\n",
            "Requirement already satisfied: numpy in /usr/local/lib/python3.6/dist-packages (from transformers) (1.19.4)\n",
            "Collecting sacremoses\n",
            "\u001b[?25l  Downloading https://files.pythonhosted.org/packages/7d/34/09d19aff26edcc8eb2a01bed8e98f13a1537005d31e95233fd48216eed10/sacremoses-0.0.43.tar.gz (883kB)\n",
            "\u001b[K     |████████████████████████████████| 890kB 40.6MB/s \n",
            "\u001b[?25hRequirement already satisfied: requests in /usr/local/lib/python3.6/dist-packages (from transformers) (2.23.0)\n",
            "Requirement already satisfied: tqdm>=4.27 in /usr/local/lib/python3.6/dist-packages (from transformers) (4.41.1)\n",
            "Requirement already satisfied: dataclasses; python_version < \"3.7\" in /usr/local/lib/python3.6/dist-packages (from transformers) (0.8)\n",
            "Requirement already satisfied: filelock in /usr/local/lib/python3.6/dist-packages (from transformers) (3.0.12)\n",
            "Collecting tokenizers==0.9.4\n",
            "\u001b[?25l  Downloading https://files.pythonhosted.org/packages/0f/1c/e789a8b12e28be5bc1ce2156cf87cb522b379be9cadc7ad8091a4cc107c4/tokenizers-0.9.4-cp36-cp36m-manylinux2010_x86_64.whl (2.9MB)\n",
            "\u001b[K     |████████████████████████████████| 2.9MB 41.5MB/s \n",
            "\u001b[?25hRequirement already satisfied: packaging in /usr/local/lib/python3.6/dist-packages (from transformers) (20.8)\n",
            "Requirement already satisfied: six in /usr/local/lib/python3.6/dist-packages (from sacremoses->transformers) (1.15.0)\n",
            "Requirement already satisfied: click in /usr/local/lib/python3.6/dist-packages (from sacremoses->transformers) (7.1.2)\n",
            "Requirement already satisfied: joblib in /usr/local/lib/python3.6/dist-packages (from sacremoses->transformers) (1.0.0)\n",
            "Requirement already satisfied: urllib3!=1.25.0,!=1.25.1,<1.26,>=1.21.1 in /usr/local/lib/python3.6/dist-packages (from requests->transformers) (1.24.3)\n",
            "Requirement already satisfied: certifi>=2017.4.17 in /usr/local/lib/python3.6/dist-packages (from requests->transformers) (2020.12.5)\n",
            "Requirement already satisfied: idna<3,>=2.5 in /usr/local/lib/python3.6/dist-packages (from requests->transformers) (2.10)\n",
            "Requirement already satisfied: chardet<4,>=3.0.2 in /usr/local/lib/python3.6/dist-packages (from requests->transformers) (3.0.4)\n",
            "Requirement already satisfied: pyparsing>=2.0.2 in /usr/local/lib/python3.6/dist-packages (from packaging->transformers) (2.4.7)\n",
            "Building wheels for collected packages: sacremoses\n",
            "  Building wheel for sacremoses (setup.py) ... \u001b[?25l\u001b[?25hdone\n",
            "  Created wheel for sacremoses: filename=sacremoses-0.0.43-cp36-none-any.whl size=893261 sha256=2fa1867f057574a56029741416bc44f1d479734d3d90a6a7c802512519d56a6e\n",
            "  Stored in directory: /root/.cache/pip/wheels/29/3c/fd/7ce5c3f0666dab31a50123635e6fb5e19ceb42ce38d4e58f45\n",
            "Successfully built sacremoses\n",
            "Installing collected packages: sacremoses, tokenizers, transformers\n",
            "Successfully installed sacremoses-0.0.43 tokenizers-0.9.4 transformers-4.1.1\n"
          ],
          "name": "stdout"
        }
      ]
    },
    {
      "cell_type": "code",
      "metadata": {
        "id": "ASRNZrETGL7v"
      },
      "source": [
        "from transformers import AutoTokenizer  \n",
        "from transformers import AutoModel \n",
        "import torch\n",
        "import numpy as np\n",
        "import pandas as pd\n",
        "import nltk\n",
        "from nltk import word_tokenize\n",
        "\n",
        "nltk.download('stopwords')\n",
        "nltk.download('punkt')\n",
        "\n",
        "class QuestionEmbeddings():\n",
        "    def __init__(self, question_path, greeting, no_answer, similarity_threshold=0.69, count_stops=False, media=True):\n",
        "        self.no_answer = no_answer\n",
        "        self.similarity_threshold = similarity_threshold\n",
        "        self.greeting = greeting\n",
        "        self.count_stops = count_stops\n",
        "        self.media = media\n",
        "        self.tokenizer = AutoTokenizer.from_pretrained('neuralmind/bert-base-portuguese-cased', do_lower_case=False)\n",
        "        self.model = AutoModel.from_pretrained('neuralmind/bert-base-portuguese-cased')\n",
        "        self.stopwords = nltk.corpus.stopwords.words('portuguese')\n",
        "        perguntas_frequentes_int = pd.read_excel(question_path)\n",
        "        self.perguntas_frequentes = self.get_database_embs(perguntas_frequentes_int)\n",
        "\n",
        "    def get_database_embs(self, perguntas_frequentes):\n",
        "        embs = []\n",
        "        for i, row in perguntas_frequentes.iterrows():\n",
        "            emb = self.get_sentence_embs(row['PERGUNTAS'])\n",
        "            embs.append(emb)\n",
        "        perguntas_frequentes['Sentence Embedding'] = embs\n",
        "        return perguntas_frequentes\n",
        "\n",
        "    def get_embs_bertinbau(self, frase):\n",
        "        input_ids = self.tokenizer.encode(frase, return_tensors='pt')\n",
        "        with torch.no_grad():\n",
        "            outs = self.model(input_ids)\n",
        "            encoded = outs[0][0, 1:-1] \n",
        "        return encoded\n",
        "\n",
        "    def get_sentence_embs(self, frase):\n",
        "        frase_embs = self.get_embs_bertinbau(frase.lower()).numpy()\n",
        "        frase_embs_considerados = []\n",
        "        palavras = word_tokenize(frase.lower())\n",
        "        for palavra, embedding in zip(palavras, frase_embs):\n",
        "            if not(self.count_stops):\n",
        "                if not(palavra in self.stopwords):\n",
        "                    frase_embs_considerados.append(embedding)\n",
        "            else:\n",
        "                frase_embs_considerados.append(embedding)\n",
        "        frase_embs_considerados = np.array(frase_embs_considerados)\n",
        "        if self.media:\n",
        "            final = np.mean(frase_embs_considerados, axis=0)\n",
        "        else:\n",
        "            final = np.sum(frase_embs_considerados, axis=0)\n",
        "        return final\n",
        "    \n",
        "    def semelhanca_cossenos(self, a,b):\n",
        "        return np.dot(a,b)/(np.linalg.norm(a)*np.linalg.norm(b))\n",
        "    \n",
        "    def get_most_similar_phrase(self, frase):\n",
        "        mais_similar = \"\"\n",
        "        maior_score_similaridade = -999\n",
        "\n",
        "        sentence_emb = self.get_sentence_embs(frase)\n",
        "        for i, row in self.perguntas_frequentes.iterrows():\n",
        "            similaridade = self.semelhanca_cossenos(sentence_emb,row['Sentence Embedding'])\n",
        "            if similaridade > maior_score_similaridade:\n",
        "                maior_score_similaridade = similaridade\n",
        "                mais_similar = row['PERGUNTAS']\n",
        "        return mais_similar, maior_score_similaridade\n",
        "    \n",
        "    def get_response(self, frase):\n",
        "        question, similaridade = self.get_most_similar_phrase(frase)\n",
        "        anwser = self.perguntas_frequentes[self.perguntas_frequentes['PERGUNTAS']  ==  question]['RESPOSTAS'].values[0]\n",
        "        print(f\"Pergunta mais similar na base de dados: \\n {question}\\nsimilaridade = {similaridade*100}%\")\n",
        "        if similaridade < self.similarity_threshold:\n",
        "            anwser = self.no_answer\n",
        "        full_answer = self.greeting  + anwser\n",
        "        return full_answer\n"
      ],
      "execution_count": null,
      "outputs": []
    },
    {
      "cell_type": "code",
      "metadata": {
        "id": "0rNe2T4NGaaT"
      },
      "source": [
        "gret = \"Olá! Obrigado por entrar em contato!\"\n",
        "noans = \"Em breve um de nossos membros te responderá!\"\n",
        "qe = QuestionEmbeddings(\"/content/q_and_a.xlsx\", gret, noans)"
      ],
      "execution_count": null,
      "outputs": []
    },
    {
      "cell_type": "code",
      "metadata": {
        "colab": {
          "base_uri": "https://localhost:8080/",
          "height": 102
        },
        "id": "NP6AObG9GzXc",
        "outputId": "f41f4b68-2b58-4bed-c8bf-de8bc216ea53"
      },
      "source": [
        "qe.get_response(\"quando é o processo seletivo?\")"
      ],
      "execution_count": null,
      "outputs": [
        {
          "output_type": "stream",
          "text": [
            "Pergunta mais similar na base de dados: \n",
            " Quando abre o Processo Seletivo?\n",
            "similaridade = 94.71486806869507%\n"
          ],
          "name": "stdout"
        },
        {
          "output_type": "execute_result",
          "data": {
            "application/vnd.google.colaboratory.intrinsic+json": {
              "type": "string"
            },
            "text/plain": [
              "'Olá! Obrigado por entrar em contato!\\nO processo seletivo do Grupo Turing apenas uma vez por ano, no inicio/meio do primeiro semestre. Divulgamos nas nossas redes sociais!'"
            ]
          },
          "metadata": {
            "tags": []
          },
          "execution_count": 17
        }
      ]
    },
    {
      "cell_type": "code",
      "metadata": {
        "colab": {
          "base_uri": "https://localhost:8080/",
          "height": 102
        },
        "id": "rjNisid-HnfP",
        "outputId": "dc4b545a-429e-48bf-8d19-fe592f172de5"
      },
      "source": [
        "qe.get_response(\"como é o ps?\")"
      ],
      "execution_count": null,
      "outputs": [
        {
          "output_type": "stream",
          "text": [
            "Pergunta mais similar na base de dados: \n",
            " Poderia me explicar como funciona o PS?\n",
            "similaridade = 75.28309226036072%\n"
          ],
          "name": "stdout"
        },
        {
          "output_type": "execute_result",
          "data": {
            "application/vnd.google.colaboratory.intrinsic+json": {
              "type": "string"
            },
            "text/plain": [
              "'Olá! Obrigado por entrar em contato!\\nAs regras específicas do nosso processo seletivo serão informadas quando iniciarmos a divulgação. Mas, em geral, contamos tanto com etapas técnicas, como entrevistas e dinâmicas'"
            ]
          },
          "metadata": {
            "tags": []
          },
          "execution_count": 18
        }
      ]
    },
    {
      "cell_type": "code",
      "metadata": {
        "colab": {
          "base_uri": "https://localhost:8080/",
          "height": 102
        },
        "id": "DGZuA3tEH6FJ",
        "outputId": "f3aacb02-bbbb-4e48-cc4e-e20d518ac07c"
      },
      "source": [
        "qe.get_response(\"vocês ensinam python?\")"
      ],
      "execution_count": null,
      "outputs": [
        {
          "output_type": "stream",
          "text": [
            "Pergunta mais similar na base de dados: \n",
            " Vocês oferecem curso basico de Python?\n",
            "similaridade = 78.89406085014343%\n"
          ],
          "name": "stdout"
        },
        {
          "output_type": "execute_result",
          "data": {
            "application/vnd.google.colaboratory.intrinsic+json": {
              "type": "string"
            },
            "text/plain": [
              "'Olá! Obrigado por entrar em contato!\\nNão oferecemos curso de Python ou de qualquer outra linguagem de programação. Nosso grupo é voltado para pesquisa, aplicações de projetos e realizações de eventos. Não realizamos aulas externas.'"
            ]
          },
          "metadata": {
            "tags": []
          },
          "execution_count": 19
        }
      ]
    },
    {
      "cell_type": "code",
      "metadata": {
        "colab": {
          "base_uri": "https://localhost:8080/",
          "height": 85
        },
        "id": "Trm2y8E7IHpb",
        "outputId": "0edb214e-f11f-4c20-efa8-3b29956e26b6"
      },
      "source": [
        "qe.get_response(\"vcs poderiam divulgar uma vaga de estágio?\")"
      ],
      "execution_count": null,
      "outputs": [
        {
          "output_type": "stream",
          "text": [
            "Pergunta mais similar na base de dados: \n",
            " Eu queria saber se vocês tem algum local especifico para fazer divulgação de vagas de emprego\n",
            "similaridade = 80.09474277496338%\n"
          ],
          "name": "stdout"
        },
        {
          "output_type": "execute_result",
          "data": {
            "application/vnd.google.colaboratory.intrinsic+json": {
              "type": "string"
            },
            "text/plain": [
              "'Olá! Obrigado por entrar em contato!\\nVocê pode utilizar nosso servidor no Discord para divulgar vagas de emprego - https://discord.gg/26RGmBS '"
            ]
          },
          "metadata": {
            "tags": []
          },
          "execution_count": 22
        }
      ]
    },
    {
      "cell_type": "code",
      "metadata": {
        "colab": {
          "base_uri": "https://localhost:8080/",
          "height": 85
        },
        "id": "jQWwGDh-JT8S",
        "outputId": "623f6e2c-1f91-476b-9e9c-08490bf2fc59"
      },
      "source": [
        "qe.get_response(\"o pãozinho do sibuya tá disponível pra umas bitocas?\")"
      ],
      "execution_count": null,
      "outputs": [
        {
          "output_type": "stream",
          "text": [
            "Pergunta mais similar na base de dados: \n",
            " O Sibuya está solteiro?\n",
            "similaridade = 72.02653288841248%\n"
          ],
          "name": "stdout"
        },
        {
          "output_type": "execute_result",
          "data": {
            "application/vnd.google.colaboratory.intrinsic+json": {
              "type": "string"
            },
            "text/plain": [
              "'Olá! Obrigado por entrar em contato!\\nSolteríssimo, só vem'"
            ]
          },
          "metadata": {
            "tags": []
          },
          "execution_count": 23
        }
      ]
    },
    {
      "cell_type": "code",
      "metadata": {
        "colab": {
          "base_uri": "https://localhost:8080/",
          "height": 85
        },
        "id": "37iOgk-FKg_S",
        "outputId": "665a5412-8d29-4d76-9ba5-4189dca8a5ea"
      },
      "source": [
        "qe.get_response(\"quanto custa essa escola?\")"
      ],
      "execution_count": null,
      "outputs": [
        {
          "output_type": "stream",
          "text": [
            "Pergunta mais similar na base de dados: \n",
            " Quanto custa esta escola?\n",
            "similaridade = 94.44549679756165%\n"
          ],
          "name": "stdout"
        },
        {
          "output_type": "execute_result",
          "data": {
            "application/vnd.google.colaboratory.intrinsic+json": {
              "type": "string"
            },
            "text/plain": [
              "'Olá! Obrigado por entrar em contato!\\nNão somos uma escola'"
            ]
          },
          "metadata": {
            "tags": []
          },
          "execution_count": 24
        }
      ]
    },
    {
      "cell_type": "code",
      "metadata": {
        "colab": {
          "base_uri": "https://localhost:8080/",
          "height": 85
        },
        "id": "URnTc5tbLNvR",
        "outputId": "0b4da037-1c8d-4b0f-c069-ef6a7379a864"
      },
      "source": [
        "qe.get_response(\"sou do doutorado, posso entrar no grupo?\")"
      ],
      "execution_count": null,
      "outputs": [
        {
          "output_type": "stream",
          "text": [
            "Pergunta mais similar na base de dados: \n",
            " Alunos da pós Graduação, mestrado e doutorado podem fazer parte do grupo?\n",
            "similaridade = 79.5280933380127%\n"
          ],
          "name": "stdout"
        },
        {
          "output_type": "execute_result",
          "data": {
            "application/vnd.google.colaboratory.intrinsic+json": {
              "type": "string"
            },
            "text/plain": [
              "'Olá! Obrigado por entrar em contato!\\nalunos da pós Graduação, mestrado e doutorado podem fazer parte do grupo'"
            ]
          },
          "metadata": {
            "tags": []
          },
          "execution_count": 27
        }
      ]
    },
    {
      "cell_type": "code",
      "metadata": {
        "colab": {
          "base_uri": "https://localhost:8080/",
          "height": 136
        },
        "id": "sSPQWdcNMI_C",
        "outputId": "bd8e130b-250f-4909-a160-2e6f409253dd"
      },
      "source": [
        "qe.get_response(\"voces fazem cursos de programação?\")"
      ],
      "execution_count": null,
      "outputs": [
        {
          "output_type": "stream",
          "text": [
            "Pergunta mais similar na base de dados: \n",
            " Vocês oferecem curso basico de Python?\n",
            "similaridade = 76.1618971824646%\n"
          ],
          "name": "stdout"
        },
        {
          "output_type": "execute_result",
          "data": {
            "application/vnd.google.colaboratory.intrinsic+json": {
              "type": "string"
            },
            "text/plain": [
              "'Olá! Obrigado por entrar em contato!\\nNão oferecemos curso de Python ou de qualquer outra linguagem de programação. Nosso grupo é voltado para pesquisa, aplicações de projetos e realizações de eventos. Não realizamos aulas externas.'"
            ]
          },
          "metadata": {
            "tags": []
          },
          "execution_count": 29
        }
      ]
    },
    {
      "cell_type": "code",
      "metadata": {
        "colab": {
          "base_uri": "https://localhost:8080/",
          "height": 139
        },
        "id": "l2DKalRcMZj_",
        "outputId": "e36573c9-f7e2-4fb0-98d0-1387f9ea5ff9"
      },
      "source": [
        "qe.get_response(\"Receberia salário no grupo?\")"
      ],
      "execution_count": null,
      "outputs": [
        {
          "output_type": "stream",
          "text": [
            "Pergunta mais similar na base de dados: \n",
            " Ao participar do grupo, recebe-se algum salário, bolsa ou compensação financeira?\n",
            "similaridade = 70.029217004776%\n"
          ],
          "name": "stdout"
        },
        {
          "output_type": "execute_result",
          "data": {
            "application/vnd.google.colaboratory.intrinsic+json": {
              "type": "string"
            },
            "text/plain": [
              "'Olá! Obrigado por entrar em contato!\\nNão há nenhum tipo de contrapartida financeira para os membros do grupo. O trabalho é 100% voluntário'"
            ]
          },
          "metadata": {
            "tags": []
          },
          "execution_count": 30
        }
      ]
    },
    {
      "cell_type": "code",
      "metadata": {
        "colab": {
          "base_uri": "https://localhost:8080/",
          "height": 136
        },
        "id": "0md4-B55Meje",
        "outputId": "cdca89e8-2c60-4515-c266-368a2f05e748"
      },
      "source": [
        "qe.get_response(\"como funciona o grupo?\")"
      ],
      "execution_count": null,
      "outputs": [
        {
          "output_type": "stream",
          "text": [
            "Pergunta mais similar na base de dados: \n",
            " Como posso conhecer o grupo?\n",
            "similaridade = 71.89542055130005%\n"
          ],
          "name": "stdout"
        },
        {
          "output_type": "execute_result",
          "data": {
            "application/vnd.google.colaboratory.intrinsic+json": {
              "type": "string"
            },
            "text/plain": [
              "'Olá! Obrigado por entrar em contato!\\nPara conhecer o grupo, veja nosso Instagram @grupoturing.usp, nossos posts no medium (turing-talks), conheça nosso site (grupoturing.com.br) e entre na nossa comunidade no Discord - https://discord.gg/26RGmBS '"
            ]
          },
          "metadata": {
            "tags": []
          },
          "execution_count": 32
        }
      ]
    },
    {
      "cell_type": "code",
      "metadata": {
        "colab": {
          "base_uri": "https://localhost:8080/",
          "height": 119
        },
        "id": "0HSjS4ZtMmQ-",
        "outputId": "69fd29a1-ad56-44d8-94f0-1d0efa5669fb"
      },
      "source": [
        "qe.get_response(\"quero entrar em contato com o grupo\")"
      ],
      "execution_count": null,
      "outputs": [
        {
          "output_type": "stream",
          "text": [
            "Pergunta mais similar na base de dados: \n",
            " Como posso entrar em contato com vocês?\n",
            "similaridade = 76.11371874809265%\n"
          ],
          "name": "stdout"
        },
        {
          "output_type": "execute_result",
          "data": {
            "application/vnd.google.colaboratory.intrinsic+json": {
              "type": "string"
            },
            "text/plain": [
              "'Olá! Obrigado por entrar em contato!\\nPode mandar a mensagem por aqui mesmo, mas se quiser algo mais formal, pode nos enviar um e-mail no grupoturing.usp@gmail.com'"
            ]
          },
          "metadata": {
            "tags": []
          },
          "execution_count": 34
        }
      ]
    },
    {
      "cell_type": "code",
      "metadata": {
        "colab": {
          "base_uri": "https://localhost:8080/",
          "height": 156
        },
        "id": "c6oiAjJjMupV",
        "outputId": "c4cf65d7-547f-4ea7-b972-4e6a9e13d49d"
      },
      "source": [
        "qe.get_response(\"Vocês tem conteudo de processamento de linguagem natural (pnl)?\")"
      ],
      "execution_count": null,
      "outputs": [
        {
          "output_type": "stream",
          "text": [
            "Pergunta mais similar na base de dados: \n",
            " Me interesso muito por Processamento de Linguagem Natural, NLP ou PLN e gostaria de falar com vocês sobre isso\n",
            "similaridade = 80.10140061378479%\n"
          ],
          "name": "stdout"
        },
        {
          "output_type": "execute_result",
          "data": {
            "application/vnd.google.colaboratory.intrinsic+json": {
              "type": "string"
            },
            "text/plain": [
              "'Olá! Obrigado por entrar em contato!\\nTemos alguns textos no nosso medium sobre Processamento de Linguagem Natural! Se tiver alguma dúvida em específico, sinta-se à vontade para enviar uma mensagem no nosso servidor no discord ( https://discord.gg/26RGmBS )'"
            ]
          },
          "metadata": {
            "tags": []
          },
          "execution_count": 36
        }
      ]
    },
    {
      "cell_type": "code",
      "metadata": {
        "colab": {
          "base_uri": "https://localhost:8080/",
          "height": 122
        },
        "id": "GJfSQMtwMElK",
        "outputId": "bf71965b-ae8a-434f-fdfe-041999e4278e"
      },
      "source": [
        "qe.get_response(\"sou da pós graduação, posso entrar no grupo?\")"
      ],
      "execution_count": null,
      "outputs": [
        {
          "output_type": "stream",
          "text": [
            "Pergunta mais similar na base de dados: \n",
            " Alunos da pós Graduação, mestrado e doutorado podem fazer parte do grupo?\n",
            "similaridade = 87.89551854133606%\n"
          ],
          "name": "stdout"
        },
        {
          "output_type": "execute_result",
          "data": {
            "application/vnd.google.colaboratory.intrinsic+json": {
              "type": "string"
            },
            "text/plain": [
              "'Olá! Obrigado por entrar em contato!\\nalunos da pós Graduação, mestrado e doutorado podem fazer parte do grupo'"
            ]
          },
          "metadata": {
            "tags": []
          },
          "execution_count": 28
        }
      ]
    },
    {
      "cell_type": "code",
      "metadata": {
        "colab": {
          "base_uri": "https://localhost:8080/",
          "height": 85
        },
        "id": "DxT-RGt5LJcL",
        "outputId": "3421039d-8fcd-4197-8a5d-f8966e95749f"
      },
      "source": [
        "qe.get_response(\"quando acaba o coronga?\")"
      ],
      "execution_count": null,
      "outputs": [
        {
          "output_type": "stream",
          "text": [
            "Pergunta mais similar na base de dados: \n",
            " O Sibuya está solteiro?\n",
            "similaridade = 49.07633662223816%\n"
          ],
          "name": "stdout"
        },
        {
          "output_type": "execute_result",
          "data": {
            "application/vnd.google.colaboratory.intrinsic+json": {
              "type": "string"
            },
            "text/plain": [
              "'Olá! Obrigado por entrar em contato!\\nEm breve um de nossos membros te responderá!'"
            ]
          },
          "metadata": {
            "tags": []
          },
          "execution_count": 25
        }
      ]
    }
  ]
}